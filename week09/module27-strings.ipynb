{
  "cells": [
    {
      "cell_type": "markdown",
      "metadata": {
        "id": "U-P0JpPx1HZK"
      },
      "source": [
        "# Text\n",
        "\n",
        "The objective for this part of the lecture is to explain how Python represents strings and how they can be used.\n",
        "\n",
        "* What is a string\n",
        "* How to manipulate and parse strings\n",
        "* Printing out strings"
      ]
    },
    {
      "cell_type": "code",
      "execution_count": 1,
      "metadata": {
        "id": "elg1P--C1HZL",
        "outputId": "1d10ce4c-7eaa-4c43-8012-9a1b8ec6214d",
        "colab": {
          "base_uri": "https://localhost:8080/",
          "height": 36
        }
      },
      "outputs": [
        {
          "output_type": "execute_result",
          "data": {
            "text/plain": [
              "'Dr. James'"
            ],
            "application/vnd.google.colaboratory.intrinsic+json": {
              "type": "string"
            }
          },
          "metadata": {},
          "execution_count": 1
        }
      ],
      "source": [
        "\"Dr. James\""
      ]
    },
    {
      "cell_type": "code",
      "execution_count": 2,
      "metadata": {
        "id": "9QG8pyVX1HZN",
        "outputId": "b85cce54-18ef-41d6-84a0-6cf42352f0d9",
        "colab": {
          "base_uri": "https://localhost:8080/",
          "height": 36
        }
      },
      "outputs": [
        {
          "output_type": "execute_result",
          "data": {
            "text/plain": [
              "'Dr. James'"
            ],
            "application/vnd.google.colaboratory.intrinsic+json": {
              "type": "string"
            }
          },
          "metadata": {},
          "execution_count": 2
        }
      ],
      "source": [
        "dr='Dr. James'\n",
        "dr"
      ]
    },
    {
      "cell_type": "code",
      "execution_count": 3,
      "metadata": {
        "id": "3zYq1hTh1HZO",
        "outputId": "b7c0ae81-13ba-42ae-e9b0-1b9641d071b4",
        "colab": {
          "base_uri": "https://localhost:8080/",
          "height": 36
        }
      },
      "outputs": [
        {
          "output_type": "execute_result",
          "data": {
            "text/plain": [
              "'Dr. James1'"
            ],
            "application/vnd.google.colaboratory.intrinsic+json": {
              "type": "string"
            }
          },
          "metadata": {},
          "execution_count": 3
        }
      ],
      "source": [
        "'Dr. James' + \"1\""
      ]
    },
    {
      "cell_type": "code",
      "execution_count": 4,
      "metadata": {
        "id": "uq8wtPXR1HZQ",
        "outputId": "8da73083-cf3c-490d-a206-e73eb7706194",
        "colab": {
          "base_uri": "https://localhost:8080/",
          "height": 36
        }
      },
      "outputs": [
        {
          "output_type": "execute_result",
          "data": {
            "text/plain": [
              "'Dr. James1'"
            ],
            "application/vnd.google.colaboratory.intrinsic+json": {
              "type": "string"
            }
          },
          "metadata": {},
          "execution_count": 4
        }
      ],
      "source": [
        "'Dr. James' + str(1)"
      ]
    },
    {
      "cell_type": "code",
      "execution_count": 5,
      "metadata": {
        "id": "gqwmLJtD1HZR",
        "outputId": "335f6692-ae1a-4316-8f6c-b23a05c6e23f",
        "colab": {
          "base_uri": "https://localhost:8080/",
          "height": 36
        }
      },
      "outputs": [
        {
          "output_type": "execute_result",
          "data": {
            "text/plain": [
              "'Dr. James and spouse'"
            ],
            "application/vnd.google.colaboratory.intrinsic+json": {
              "type": "string"
            }
          },
          "metadata": {},
          "execution_count": 5
        }
      ],
      "source": [
        "'Dr. James' + ' and spouse'"
      ]
    },
    {
      "cell_type": "code",
      "execution_count": 6,
      "metadata": {
        "id": "8wxNKZbr1HZS",
        "outputId": "0d0e547e-3291-4fef-aff5-56a1aabd54cd",
        "colab": {
          "base_uri": "https://localhost:8080/",
          "height": 36
        }
      },
      "outputs": [
        {
          "output_type": "execute_result",
          "data": {
            "text/plain": [
              "\"Dr. James's spouse\""
            ],
            "application/vnd.google.colaboratory.intrinsic+json": {
              "type": "string"
            }
          },
          "metadata": {},
          "execution_count": 6
        }
      ],
      "source": [
        "'Dr. James\\'s spouse'"
      ]
    },
    {
      "cell_type": "code",
      "execution_count": 7,
      "metadata": {
        "id": "cq0W4GBu1HZT",
        "outputId": "0c85e780-df44-444e-cbfc-2d251e4a9cec",
        "colab": {
          "base_uri": "https://localhost:8080/",
          "height": 36
        }
      },
      "outputs": [
        {
          "output_type": "execute_result",
          "data": {
            "text/plain": [
              "\"Dr. James's spouse\""
            ],
            "application/vnd.google.colaboratory.intrinsic+json": {
              "type": "string"
            }
          },
          "metadata": {},
          "execution_count": 7
        }
      ],
      "source": [
        "\"Dr. James's spouse\""
      ]
    },
    {
      "cell_type": "code",
      "execution_count": 8,
      "metadata": {
        "id": "e_wrcdGo1HZT",
        "outputId": "64953219-a25a-4b26-a636-36ef0d45ff3e",
        "colab": {
          "base_uri": "https://localhost:8080/"
        }
      },
      "outputs": [
        {
          "output_type": "execute_result",
          "data": {
            "text/plain": [
              "9"
            ]
          },
          "metadata": {},
          "execution_count": 8
        }
      ],
      "source": [
        "len('Dr. James')"
      ]
    },
    {
      "cell_type": "code",
      "execution_count": 9,
      "metadata": {
        "id": "mVkVkLVS1HZU",
        "outputId": "b1d94b7e-d411-4eda-8fb0-152eaf815756",
        "colab": {
          "base_uri": "https://localhost:8080/"
        }
      },
      "outputs": [
        {
          "output_type": "execute_result",
          "data": {
            "text/plain": [
              "18"
            ]
          },
          "metadata": {},
          "execution_count": 9
        }
      ],
      "source": [
        "len('Dr. James\\'s Spouse')"
      ]
    },
    {
      "cell_type": "code",
      "execution_count": 10,
      "metadata": {
        "id": "L4aPmd-H1HZV",
        "outputId": "1c05d6ae-c7a3-4205-f4f7-131c2e8937c0",
        "colab": {
          "base_uri": "https://localhost:8080/"
        }
      },
      "outputs": [
        {
          "output_type": "execute_result",
          "data": {
            "text/plain": [
              "18"
            ]
          },
          "metadata": {},
          "execution_count": 10
        }
      ],
      "source": [
        "len(\"Dr. James's Spouse\")"
      ]
    },
    {
      "cell_type": "code",
      "execution_count": 11,
      "metadata": {
        "id": "UYD2Zez81HZV"
      },
      "outputs": [],
      "source": [
        "dr = 'Dr. James\\'s \"Spouse\"'"
      ]
    },
    {
      "cell_type": "code",
      "execution_count": 12,
      "metadata": {
        "id": "m5h6AQQt1HZV",
        "outputId": "ac07cc1a-01ea-49c2-af83-306181084b86",
        "colab": {
          "base_uri": "https://localhost:8080/",
          "height": 36
        }
      },
      "outputs": [
        {
          "output_type": "execute_result",
          "data": {
            "text/plain": [
              "'Dr. James\\'s \"Spouse\"'"
            ],
            "application/vnd.google.colaboratory.intrinsic+json": {
              "type": "string"
            }
          },
          "metadata": {},
          "execution_count": 12
        }
      ],
      "source": [
        "dr"
      ]
    },
    {
      "cell_type": "code",
      "execution_count": 13,
      "metadata": {
        "id": "nVb6We5b1HZV",
        "outputId": "2b684e41-e1ed-4dda-e020-48b09b798f0b",
        "colab": {
          "base_uri": "https://localhost:8080/",
          "height": 36
        }
      },
      "outputs": [
        {
          "output_type": "execute_result",
          "data": {
            "text/plain": [
              "'Dr. James\\'s \"Spouse\"'"
            ],
            "application/vnd.google.colaboratory.intrinsic+json": {
              "type": "string"
            }
          },
          "metadata": {},
          "execution_count": 13
        }
      ],
      "source": [
        "\"Dr. James's \\\"Spouse\\\"\""
      ]
    },
    {
      "cell_type": "code",
      "execution_count": 14,
      "metadata": {
        "id": "SuZkjXmF1HZW",
        "outputId": "4aae0e43-40c0-4fed-ff5f-86fd5705deb8",
        "colab": {
          "base_uri": "https://localhost:8080/"
        }
      },
      "outputs": [
        {
          "output_type": "stream",
          "name": "stdout",
          "text": [
            "Dr. James's \"Spouse\"\n"
          ]
        }
      ],
      "source": [
        "print(dr)"
      ]
    },
    {
      "cell_type": "code",
      "execution_count": 15,
      "metadata": {
        "id": "6FUDSrDA1HZX",
        "outputId": "31f1007f-1579-4f61-9687-bfd89984f66f",
        "colab": {
          "base_uri": "https://localhost:8080/"
        }
      },
      "outputs": [
        {
          "output_type": "execute_result",
          "data": {
            "text/plain": [
              "20"
            ]
          },
          "metadata": {},
          "execution_count": 15
        }
      ],
      "source": [
        "len(dr)"
      ]
    },
    {
      "cell_type": "code",
      "execution_count": 16,
      "metadata": {
        "id": "vz4twQAd1HZY",
        "outputId": "e1c03132-c1f2-497f-8c95-7c2e4cfa0556",
        "colab": {
          "base_uri": "https://localhost:8080/",
          "height": 36
        }
      },
      "outputs": [
        {
          "output_type": "execute_result",
          "data": {
            "text/plain": [
              "'A'"
            ],
            "application/vnd.google.colaboratory.intrinsic+json": {
              "type": "string"
            }
          },
          "metadata": {},
          "execution_count": 16
        }
      ],
      "source": [
        "seq = 'AGCCGAC'\n",
        "seq[5]"
      ]
    },
    {
      "cell_type": "code",
      "execution_count": 17,
      "metadata": {
        "id": "CMTCdC5D1HZY",
        "outputId": "a7634334-f9db-4ac5-a24a-9e336df20a0e",
        "colab": {
          "base_uri": "https://localhost:8080/",
          "height": 36
        }
      },
      "outputs": [
        {
          "output_type": "execute_result",
          "data": {
            "text/plain": [
              "'AC'"
            ],
            "application/vnd.google.colaboratory.intrinsic+json": {
              "type": "string"
            }
          },
          "metadata": {},
          "execution_count": 17
        }
      ],
      "source": [
        "# [start_position:up_until_but_not_including]\n",
        "# First character is in position 0\n",
        "seq[5:8]"
      ]
    },
    {
      "cell_type": "code",
      "execution_count": 18,
      "metadata": {
        "id": "bvL-wglc1HZZ",
        "outputId": "ae52cb5b-011c-4b65-872f-58e95e369583",
        "colab": {
          "base_uri": "https://localhost:8080/",
          "height": 36
        }
      },
      "outputs": [
        {
          "output_type": "execute_result",
          "data": {
            "text/plain": [
              "'AGCCG'"
            ],
            "application/vnd.google.colaboratory.intrinsic+json": {
              "type": "string"
            }
          },
          "metadata": {},
          "execution_count": 18
        }
      ],
      "source": [
        "start_position=0\n",
        "number_of_characters=5\n",
        "seq[start_position:start_position+number_of_characters]"
      ]
    },
    {
      "cell_type": "code",
      "execution_count": 19,
      "metadata": {
        "id": "g5xytANI1HZZ"
      },
      "outputs": [],
      "source": [
        "txt = '''This\n",
        "string\n",
        "is\n",
        "on\n",
        "multiple\n",
        "lines'''"
      ]
    },
    {
      "cell_type": "code",
      "execution_count": 20,
      "metadata": {
        "id": "PhHn12On1HZa",
        "outputId": "a482d2a9-4371-458a-c57e-a7c9fb3e45fa",
        "colab": {
          "base_uri": "https://localhost:8080/",
          "height": 36
        }
      },
      "outputs": [
        {
          "output_type": "execute_result",
          "data": {
            "text/plain": [
              "'This\\nstring\\nis\\non\\nmultiple\\nlines'"
            ],
            "application/vnd.google.colaboratory.intrinsic+json": {
              "type": "string"
            }
          },
          "metadata": {},
          "execution_count": 20
        }
      ],
      "source": [
        "txt"
      ]
    },
    {
      "cell_type": "code",
      "execution_count": 21,
      "metadata": {
        "id": "4lYumlEE1HZa",
        "outputId": "39ddf343-750d-400f-dce6-60006d8b08cb",
        "colab": {
          "base_uri": "https://localhost:8080/"
        }
      },
      "outputs": [
        {
          "output_type": "stream",
          "name": "stdout",
          "text": [
            "This\n",
            "string\n",
            "is\n",
            "on\n",
            "multiple\n",
            "lines\n"
          ]
        }
      ],
      "source": [
        "print(txt)"
      ]
    },
    {
      "cell_type": "code",
      "execution_count": 22,
      "metadata": {
        "id": "BJTamHcu1HZa",
        "outputId": "a6839589-afb2-4147-93d3-9ce62655f944",
        "colab": {
          "base_uri": "https://localhost:8080/"
        }
      },
      "outputs": [
        {
          "output_type": "execute_result",
          "data": {
            "text/plain": [
              "32"
            ]
          },
          "metadata": {},
          "execution_count": 22
        }
      ],
      "source": [
        "len(txt)"
      ]
    },
    {
      "cell_type": "code",
      "execution_count": 23,
      "metadata": {
        "id": "wS8dXubg1HZa"
      },
      "outputs": [],
      "source": [
        "txt2 = 'This\\nstring\\nis\\non\\nmultiple\\nlines'"
      ]
    },
    {
      "cell_type": "code",
      "execution_count": 24,
      "metadata": {
        "id": "UMRZBO8w1HZa",
        "outputId": "cd66c5f5-f85b-4fd4-b186-bb932ec1812c",
        "colab": {
          "base_uri": "https://localhost:8080/"
        }
      },
      "outputs": [
        {
          "output_type": "stream",
          "name": "stdout",
          "text": [
            "This\n",
            "string\n",
            "is\n",
            "on\n",
            "multiple\n",
            "lines\n"
          ]
        }
      ],
      "source": [
        "print(txt2)"
      ]
    },
    {
      "cell_type": "code",
      "execution_count": 25,
      "metadata": {
        "id": "FD4LK_551HZb",
        "outputId": "c437ce8c-6e25-4ae4-d703-8d961c0d2155",
        "colab": {
          "base_uri": "https://localhost:8080/"
        }
      },
      "outputs": [
        {
          "output_type": "stream",
          "name": "stdout",
          "text": [
            "a1\ta2\n",
            "b10\tb2\n"
          ]
        }
      ],
      "source": [
        "tbl = \"a1\\ta2\\nb10\\tb2\"\n",
        "print(tbl)"
      ]
    },
    {
      "cell_type": "markdown",
      "metadata": {
        "id": "id-X6gCu1HZb"
      },
      "source": [
        "# Parts of strings"
      ]
    },
    {
      "cell_type": "code",
      "execution_count": 26,
      "metadata": {
        "id": "tAUeKzY61HZb"
      },
      "outputs": [],
      "source": [
        "name = \"Paul E. Boal\""
      ]
    },
    {
      "cell_type": "markdown",
      "metadata": {
        "id": "XeqLSjIa1HZb"
      },
      "source": [
        "`[]` is used to \"slice\" a string\n",
        "\n",
        "```\n",
        "a[start:end] # items start through end-1\n",
        "a[start:]    # items start through the rest of the array\n",
        "a[:end]      # items from the beginning through end-1\n",
        "a[:]         # a copy of the whole array\n",
        "```\n",
        "\n",
        "If `start` or `end` is a negative number, then it means that many characters from the end of the string."
      ]
    },
    {
      "cell_type": "code",
      "execution_count": 27,
      "metadata": {
        "id": "MmiCbE9C1HZc",
        "outputId": "8eaff3a1-b997-4860-8add-f773e768540d",
        "colab": {
          "base_uri": "https://localhost:8080/"
        }
      },
      "outputs": [
        {
          "output_type": "execute_result",
          "data": {
            "text/plain": [
              "12"
            ]
          },
          "metadata": {},
          "execution_count": 27
        }
      ],
      "source": [
        "len(name)"
      ]
    },
    {
      "cell_type": "code",
      "execution_count": 28,
      "metadata": {
        "id": "4zlQQ0KK1HZc",
        "outputId": "7df5009d-acef-4b0b-ed4f-45f9486dc171",
        "colab": {
          "base_uri": "https://localhost:8080/",
          "height": 36
        }
      },
      "outputs": [
        {
          "output_type": "execute_result",
          "data": {
            "text/plain": [
              "'P'"
            ],
            "application/vnd.google.colaboratory.intrinsic+json": {
              "type": "string"
            }
          },
          "metadata": {},
          "execution_count": 28
        }
      ],
      "source": [
        "name[0]"
      ]
    },
    {
      "cell_type": "code",
      "execution_count": 29,
      "metadata": {
        "id": "PmBfw29B1HZd",
        "outputId": "cbd48fa4-3349-4a7c-859f-95b90f011200",
        "colab": {
          "base_uri": "https://localhost:8080/",
          "height": 36
        }
      },
      "outputs": [
        {
          "output_type": "execute_result",
          "data": {
            "text/plain": [
              "'Paul'"
            ],
            "application/vnd.google.colaboratory.intrinsic+json": {
              "type": "string"
            }
          },
          "metadata": {},
          "execution_count": 29
        }
      ],
      "source": [
        "name[0:4]"
      ]
    },
    {
      "cell_type": "code",
      "execution_count": 30,
      "metadata": {
        "id": "6TYYdieR1HZd",
        "outputId": "f00fd674-d5f2-4067-fa86-d68fe26f4eea",
        "colab": {
          "base_uri": "https://localhost:8080/",
          "height": 36
        }
      },
      "outputs": [
        {
          "output_type": "execute_result",
          "data": {
            "text/plain": [
              "'Boal'"
            ],
            "application/vnd.google.colaboratory.intrinsic+json": {
              "type": "string"
            }
          },
          "metadata": {},
          "execution_count": 30
        }
      ],
      "source": [
        "name[-4:]"
      ]
    },
    {
      "cell_type": "code",
      "execution_count": 31,
      "metadata": {
        "id": "Kh5sAoqs1HZd",
        "outputId": "829db5ae-2fff-4192-bca7-b80b09fcb98a",
        "colab": {
          "base_uri": "https://localhost:8080/",
          "height": 36
        }
      },
      "outputs": [
        {
          "output_type": "execute_result",
          "data": {
            "text/plain": [
              "'E. Boal'"
            ],
            "application/vnd.google.colaboratory.intrinsic+json": {
              "type": "string"
            }
          },
          "metadata": {},
          "execution_count": 31
        }
      ],
      "source": [
        "name[5:]"
      ]
    },
    {
      "cell_type": "code",
      "execution_count": 32,
      "metadata": {
        "id": "6Ic2b-U-1HZd",
        "outputId": "fd2da8fe-58e8-471b-a016-c2f5259cb08b",
        "colab": {
          "base_uri": "https://localhost:8080/"
        }
      },
      "outputs": [
        {
          "output_type": "stream",
          "name": "stdout",
          "text": [
            "Paul E. Boal\n"
          ]
        }
      ],
      "source": [
        "print(name)"
      ]
    },
    {
      "cell_type": "code",
      "execution_count": 33,
      "metadata": {
        "id": "0lkp-NKd1HZd",
        "outputId": "3fa8118d-748d-4340-b42b-407d9ef9b88f",
        "colab": {
          "base_uri": "https://localhost:8080/"
        }
      },
      "outputs": [
        {
          "output_type": "execute_result",
          "data": {
            "text/plain": [
              "4"
            ]
          },
          "metadata": {},
          "execution_count": 33
        }
      ],
      "source": [
        "name.find(' ')"
      ]
    },
    {
      "cell_type": "code",
      "execution_count": 34,
      "metadata": {
        "id": "zy7uKd9T1HZe",
        "outputId": "7be250d1-aa7b-4e88-fae5-c4fa4da5e55b",
        "colab": {
          "base_uri": "https://localhost:8080/",
          "height": 36
        }
      },
      "outputs": [
        {
          "output_type": "execute_result",
          "data": {
            "text/plain": [
              "'Paul'"
            ],
            "application/vnd.google.colaboratory.intrinsic+json": {
              "type": "string"
            }
          },
          "metadata": {},
          "execution_count": 34
        }
      ],
      "source": [
        "name[:name.find(' ')]"
      ]
    },
    {
      "cell_type": "code",
      "execution_count": 35,
      "metadata": {
        "id": "UtSh49vN1HZe",
        "outputId": "87137a15-ad51-4c67-8dda-3cdd34f0766a",
        "colab": {
          "base_uri": "https://localhost:8080/",
          "height": 36
        }
      },
      "outputs": [
        {
          "output_type": "execute_result",
          "data": {
            "text/plain": [
              "'E. Boal'"
            ],
            "application/vnd.google.colaboratory.intrinsic+json": {
              "type": "string"
            }
          },
          "metadata": {},
          "execution_count": 35
        }
      ],
      "source": [
        "name[name.find(' ')+1:]"
      ]
    },
    {
      "cell_type": "code",
      "execution_count": 36,
      "metadata": {
        "id": "bLI_4ehv1HZe",
        "outputId": "b5ad776a-40bb-43bb-868e-8b56e4b6070c",
        "colab": {
          "base_uri": "https://localhost:8080/",
          "height": 36
        }
      },
      "outputs": [
        {
          "output_type": "execute_result",
          "data": {
            "text/plain": [
              "'E. Boal'"
            ],
            "application/vnd.google.colaboratory.intrinsic+json": {
              "type": "string"
            }
          },
          "metadata": {},
          "execution_count": 36
        }
      ],
      "source": [
        "pos_of_middle_name = name.find(' ') + 1\n",
        "middle_and_last = name[pos_of_middle_name:]\n",
        "middle_and_last"
      ]
    },
    {
      "cell_type": "code",
      "execution_count": 37,
      "metadata": {
        "id": "mMjlMiR41HZl",
        "outputId": "1b9cb802-90e2-464e-839c-73f0cfeb04aa",
        "colab": {
          "base_uri": "https://localhost:8080/",
          "height": 36
        }
      },
      "outputs": [
        {
          "output_type": "execute_result",
          "data": {
            "text/plain": [
              "'Boal'"
            ],
            "application/vnd.google.colaboratory.intrinsic+json": {
              "type": "string"
            }
          },
          "metadata": {},
          "execution_count": 37
        }
      ],
      "source": [
        "# Position of the middle name is up to the first space\n",
        "pos_of_middle_name = name.find(' ') + 1\n",
        "\n",
        "middle_and_last = name[pos_of_middle_name:]\n",
        "\n",
        "# Position of the last name is the position of the first space after the end of the first name\n",
        "pos_of_last = middle_and_last.find(' ') + 1\n",
        "\n",
        "middle_and_last[pos_of_last:]"
      ]
    },
    {
      "cell_type": "code",
      "execution_count": 38,
      "metadata": {
        "id": "3Ne-29je1HZl",
        "outputId": "f9753578-8788-4ade-999a-42a383c4a980",
        "colab": {
          "base_uri": "https://localhost:8080/",
          "height": 36
        }
      },
      "outputs": [
        {
          "output_type": "execute_result",
          "data": {
            "text/plain": [
              "'Paul E. Boal'"
            ],
            "application/vnd.google.colaboratory.intrinsic+json": {
              "type": "string"
            }
          },
          "metadata": {},
          "execution_count": 38
        }
      ],
      "source": [
        "name"
      ]
    },
    {
      "cell_type": "code",
      "execution_count": 39,
      "metadata": {
        "id": "RwH5uHSr1HZl",
        "outputId": "40d622a2-ecc9-49e8-ac72-b83ab332e301",
        "colab": {
          "base_uri": "https://localhost:8080/"
        }
      },
      "outputs": [
        {
          "output_type": "execute_result",
          "data": {
            "text/plain": [
              "['Paul', 'E.', 'Boal']"
            ]
          },
          "metadata": {},
          "execution_count": 39
        }
      ],
      "source": [
        "name.split(' ')"
      ]
    },
    {
      "cell_type": "markdown",
      "metadata": {
        "id": "T3AehNra1HZl"
      },
      "source": [
        "# Converting text to numbers"
      ]
    },
    {
      "cell_type": "code",
      "execution_count": 40,
      "metadata": {
        "id": "ePdsqEiP1HZl",
        "outputId": "b4974e7d-1683-419b-c0ab-bc00acb94a94",
        "colab": {
          "base_uri": "https://localhost:8080/"
        }
      },
      "outputs": [
        {
          "output_type": "execute_result",
          "data": {
            "text/plain": [
              "45"
            ]
          },
          "metadata": {},
          "execution_count": 40
        }
      ],
      "source": [
        "int('45')"
      ]
    },
    {
      "cell_type": "code",
      "execution_count": 41,
      "metadata": {
        "id": "YOy890x61HZm",
        "outputId": "37d897af-54a6-40ef-bfa0-0eaf1976a88b",
        "colab": {
          "base_uri": "https://localhost:8080/"
        }
      },
      "outputs": [
        {
          "output_type": "execute_result",
          "data": {
            "text/plain": [
              "45.12"
            ]
          },
          "metadata": {},
          "execution_count": 41
        }
      ],
      "source": [
        "float('45.12')"
      ]
    },
    {
      "cell_type": "code",
      "execution_count": 43,
      "metadata": {
        "id": "-fOOIPU_1HZm",
        "outputId": "e0d1f8bd-1567-45df-d42b-9a7f2c9cf9eb",
        "colab": {
          "base_uri": "https://localhost:8080/"
        }
      },
      "outputs": [
        {
          "output_type": "execute_result",
          "data": {
            "text/plain": [
              "4512"
            ]
          },
          "metadata": {},
          "execution_count": 43
        }
      ],
      "source": [
        "int('45_12')"
      ]
    },
    {
      "cell_type": "code",
      "execution_count": 44,
      "metadata": {
        "id": "2hD7v-vy1HZm",
        "outputId": "fc60b80b-84cf-46c4-c263-11a2620e1908",
        "colab": {
          "base_uri": "https://localhost:8080/"
        }
      },
      "outputs": [
        {
          "output_type": "execute_result",
          "data": {
            "text/plain": [
              "str"
            ]
          },
          "metadata": {},
          "execution_count": 44
        }
      ],
      "source": [
        "score='45.12'\n",
        "type(score)"
      ]
    },
    {
      "cell_type": "code",
      "execution_count": 45,
      "metadata": {
        "id": "Kugdz8U21HZm",
        "outputId": "25adeca5-4fec-418c-aedc-17b4e3b3f1f1",
        "colab": {
          "base_uri": "https://localhost:8080/"
        }
      },
      "outputs": [
        {
          "output_type": "execute_result",
          "data": {
            "text/plain": [
              "45"
            ]
          },
          "metadata": {},
          "execution_count": 45
        }
      ],
      "source": [
        "int(score[:score.find('.')])"
      ]
    },
    {
      "cell_type": "code",
      "execution_count": 47,
      "metadata": {
        "id": "0DfOeg_m1HZm",
        "outputId": "799eb119-18a7-4c16-c286-4c27931932ee",
        "colab": {
          "base_uri": "https://localhost:8080/"
        }
      },
      "outputs": [
        {
          "output_type": "execute_result",
          "data": {
            "text/plain": [
              "1"
            ]
          },
          "metadata": {},
          "execution_count": 47
        }
      ],
      "source": [
        "int('1')"
      ]
    },
    {
      "cell_type": "code",
      "execution_count": 48,
      "metadata": {
        "id": "-uyJlqFE1HZm",
        "outputId": "e6577776-51f4-4ff5-b304-15d078ae955d",
        "colab": {
          "base_uri": "https://localhost:8080/"
        }
      },
      "outputs": [
        {
          "output_type": "execute_result",
          "data": {
            "text/plain": [
              "10"
            ]
          },
          "metadata": {},
          "execution_count": 48
        }
      ],
      "source": [
        "int('a',base=16)"
      ]
    },
    {
      "cell_type": "code",
      "execution_count": 51,
      "metadata": {
        "id": "iBzYrCrK1HZm",
        "outputId": "0a8fc2a0-29b3-4a68-cca2-9ac87b2cf8e7",
        "colab": {
          "base_uri": "https://localhost:8080/"
        }
      },
      "outputs": [
        {
          "output_type": "execute_result",
          "data": {
            "text/plain": [
              "14.3"
            ]
          },
          "metadata": {},
          "execution_count": 51
        }
      ],
      "source": [
        "float(10.3 + 4)"
      ]
    },
    {
      "cell_type": "code",
      "execution_count": 52,
      "metadata": {
        "id": "uWZLL9wO1HZn",
        "outputId": "6da7447e-9c7d-4671-b1d2-77041c7d9171",
        "colab": {
          "base_uri": "https://localhost:8080/"
        }
      },
      "outputs": [
        {
          "output_type": "execute_result",
          "data": {
            "text/plain": [
              "14.5"
            ]
          },
          "metadata": {},
          "execution_count": 52
        }
      ],
      "source": [
        "a=\"14.5\"\n",
        "float(a)"
      ]
    },
    {
      "cell_type": "code",
      "execution_count": 52,
      "metadata": {
        "id": "vN9aS-S61HZn"
      },
      "outputs": [],
      "source": []
    },
    {
      "cell_type": "markdown",
      "metadata": {
        "id": "EO1QSP1e1HZn"
      },
      "source": [
        "## Printing text"
      ]
    },
    {
      "cell_type": "code",
      "execution_count": 54,
      "metadata": {
        "id": "yZkuI9Uk1HZn",
        "outputId": "2ae7a27a-6a51-47ff-dfca-eee21c226ee0",
        "colab": {
          "base_uri": "https://localhost:8080/"
        }
      },
      "outputs": [
        {
          "output_type": "stream",
          "name": "stdout",
          "text": [
            "Put a formatted number here: 14.50\n"
          ]
        }
      ],
      "source": [
        "try:\n",
        "    formatted_number = float(a)  # Attempt to convert to float\n",
        "    print('Put a formatted number here: {:.2f}'.format(formatted_number))\n",
        "except ValueError:\n",
        "    print(\"Error: The variable 'a' cannot be converted to a float.\")"
      ]
    },
    {
      "cell_type": "code",
      "execution_count": 56,
      "metadata": {
        "id": "y9aLx0BT1HZn"
      },
      "outputs": [],
      "source": [
        "# \"new\" style formatting\n",
        "def print_numbers(a,b):\n",
        "    return 'Here is {:d} and here is {:d}'.format(a,b)"
      ]
    },
    {
      "cell_type": "code",
      "execution_count": 57,
      "metadata": {
        "id": "28oK8XLi1HZn",
        "outputId": "29ccc1ab-bc10-4ae8-c141-aa535385fe20",
        "colab": {
          "base_uri": "https://localhost:8080/"
        }
      },
      "outputs": [
        {
          "output_type": "stream",
          "name": "stdout",
          "text": [
            "Here is 1 and here is 2\n"
          ]
        }
      ],
      "source": [
        "print(print_numbers(1,2))"
      ]
    },
    {
      "cell_type": "markdown",
      "metadata": {
        "id": "GYxcw1EM1HZo"
      },
      "source": [
        "See https://docs.python.org/3/library/stdtypes.html#printf-style-string-formatting for a good reference on formatting."
      ]
    },
    {
      "cell_type": "code",
      "execution_count": 58,
      "metadata": {
        "id": "Qrd6W1mT1HZo",
        "outputId": "227c4b33-e51e-422c-fc25-14aa234bc90f",
        "colab": {
          "base_uri": "https://localhost:8080/"
        }
      },
      "outputs": [
        {
          "output_type": "stream",
          "name": "stdout",
          "text": [
            "Dr. James Jane Doe Right Ulnar Fracture\n"
          ]
        }
      ],
      "source": [
        "physician = 'Dr. James'\n",
        "patient = 'Jane Doe'\n",
        "diagnosis = 'Right Ulnar Fracture'\n",
        "print(physician, patient, diagnosis, sep=' ')"
      ]
    },
    {
      "cell_type": "markdown",
      "metadata": {
        "id": "Xc2PcfCe1HZo"
      },
      "source": [
        "## Splitting Strings"
      ]
    },
    {
      "cell_type": "code",
      "execution_count": 59,
      "metadata": {
        "id": "WQu59Y1X1HZo"
      },
      "outputs": [],
      "source": [
        "names=\"Paul,Sarahlynn,Ellie,Ada,Teddy\""
      ]
    },
    {
      "cell_type": "code",
      "execution_count": 60,
      "metadata": {
        "id": "B24idTYU1HZo",
        "outputId": "7cf3fbad-9d25-4057-b803-451ce1764363",
        "colab": {
          "base_uri": "https://localhost:8080/"
        }
      },
      "outputs": [
        {
          "output_type": "execute_result",
          "data": {
            "text/plain": [
              "['Paul', 'Sarahlynn', 'Ellie', 'Ada', 'Teddy']"
            ]
          },
          "metadata": {},
          "execution_count": 60
        }
      ],
      "source": [
        "names.split(',')"
      ]
    },
    {
      "cell_type": "code",
      "execution_count": 61,
      "metadata": {
        "id": "rCUxmEea1HZo"
      },
      "outputs": [],
      "source": [
        "names=\"Paul, Sarahlynn, Ellie, Ada, Teddy\""
      ]
    },
    {
      "cell_type": "code",
      "execution_count": 62,
      "metadata": {
        "id": "7RIc4y071HZp",
        "outputId": "3157e40f-ef2d-4436-db8c-7609f94f60cf",
        "colab": {
          "base_uri": "https://localhost:8080/"
        }
      },
      "outputs": [
        {
          "output_type": "execute_result",
          "data": {
            "text/plain": [
              "['Paul', ' Sarahlynn', ' Ellie', ' Ada', ' Teddy']"
            ]
          },
          "metadata": {},
          "execution_count": 62
        }
      ],
      "source": [
        "\n",
        "names.split(',')"
      ]
    },
    {
      "cell_type": "code",
      "execution_count": 63,
      "metadata": {
        "id": "onAdDw4L1HZp",
        "outputId": "58004d5e-7223-4a3b-fc47-66fc1b95d969",
        "colab": {
          "base_uri": "https://localhost:8080/"
        }
      },
      "outputs": [
        {
          "output_type": "execute_result",
          "data": {
            "text/plain": [
              "['Paul', 'Sarahlynn', 'Ellie', 'Ada', 'Teddy']"
            ]
          },
          "metadata": {},
          "execution_count": 63
        }
      ],
      "source": [
        "names.split(', ')"
      ]
    },
    {
      "cell_type": "markdown",
      "metadata": {
        "id": "hooDPu211HZp"
      },
      "source": [
        "## Find the Nth Occurrence of a String"
      ]
    },
    {
      "cell_type": "code",
      "execution_count": 64,
      "metadata": {
        "id": "6h7hxc7i1HZp"
      },
      "outputs": [],
      "source": [
        "our_string = \"love is love is love is love\""
      ]
    },
    {
      "cell_type": "code",
      "execution_count": 65,
      "metadata": {
        "id": "qOLcxaM41HZp",
        "outputId": "d7a2fcea-9b64-46d7-ba52-3ef12c4fac89",
        "colab": {
          "base_uri": "https://localhost:8080/"
        }
      },
      "outputs": [
        {
          "output_type": "execute_result",
          "data": {
            "text/plain": [
              "0"
            ]
          },
          "metadata": {},
          "execution_count": 65
        }
      ],
      "source": [
        "first_love = our_string.find(\"love\")\n",
        "first_love"
      ]
    },
    {
      "cell_type": "code",
      "execution_count": 66,
      "metadata": {
        "id": "7fjkxo9j1HZq",
        "outputId": "ddda295a-a181-4ed9-c23d-cf4378441e24",
        "colab": {
          "base_uri": "https://localhost:8080/"
        }
      },
      "outputs": [
        {
          "output_type": "execute_result",
          "data": {
            "text/plain": [
              "8"
            ]
          },
          "metadata": {},
          "execution_count": 66
        }
      ],
      "source": [
        "second_love = our_string.find(\"love\", first_love+1)\n",
        "second_love"
      ]
    },
    {
      "cell_type": "code",
      "execution_count": 67,
      "metadata": {
        "id": "whmBJT6r1HZq",
        "outputId": "247c9bb0-aa4e-4c28-9f28-e271addbb8ee",
        "colab": {
          "base_uri": "https://localhost:8080/"
        }
      },
      "outputs": [
        {
          "output_type": "execute_result",
          "data": {
            "text/plain": [
              "16"
            ]
          },
          "metadata": {},
          "execution_count": 67
        }
      ],
      "source": [
        "third_love = our_string.find(\"love\", second_love+1)\n",
        "third_love"
      ]
    },
    {
      "cell_type": "code",
      "execution_count": 67,
      "metadata": {
        "id": "0TRTTL_e1HZq"
      },
      "outputs": [],
      "source": []
    },
    {
      "cell_type": "code",
      "execution_count": 68,
      "metadata": {
        "id": "PS_on3fI1HZq"
      },
      "outputs": [],
      "source": [
        "def find_nth(str_to_search, for_str, nth):\n",
        "\n",
        "    start = 0\n",
        "    for i in range(1, nth+1):\n",
        "        pos = str_to_search.find(for_str, start)\n",
        "        if pos == -1:\n",
        "            return -1\n",
        "        else:\n",
        "            start = pos+1\n",
        "\n",
        "    return pos"
      ]
    },
    {
      "cell_type": "code",
      "execution_count": 69,
      "metadata": {
        "id": "iuHiDIE91HZq",
        "outputId": "1f5abbcd-f64c-44b1-84a5-09cebe07ed37",
        "colab": {
          "base_uri": "https://localhost:8080/"
        }
      },
      "outputs": [
        {
          "output_type": "execute_result",
          "data": {
            "text/plain": [
              "24"
            ]
          },
          "metadata": {},
          "execution_count": 69
        }
      ],
      "source": [
        "find_nth(our_string, \"love\", 4)"
      ]
    },
    {
      "cell_type": "code",
      "execution_count": 70,
      "metadata": {
        "id": "kgpxCAQ41HZr",
        "outputId": "c2476d72-a00f-4e4a-8bef-6461616ea57d",
        "colab": {
          "base_uri": "https://localhost:8080/"
        }
      },
      "outputs": [
        {
          "output_type": "execute_result",
          "data": {
            "text/plain": [
              "5"
            ]
          },
          "metadata": {},
          "execution_count": 70
        }
      ],
      "source": [
        "find_nth(our_string, \"is\", 1)"
      ]
    },
    {
      "cell_type": "code",
      "execution_count": 71,
      "metadata": {
        "id": "ClgtlfB21HZr",
        "outputId": "708d3d1e-bbac-4815-8db2-796cd7eaba0a",
        "colab": {
          "base_uri": "https://localhost:8080/"
        }
      },
      "outputs": [
        {
          "output_type": "stream",
          "name": "stdout",
          "text": [
            "0\n",
            "8\n",
            "16\n",
            "24\n",
            "-1\n",
            "-1\n",
            "-1\n",
            "-1\n",
            "-1\n"
          ]
        }
      ],
      "source": [
        "for n in range(1,10):\n",
        "    pos = find_nth(our_string, \"love\", n)\n",
        "    print(pos)"
      ]
    },
    {
      "cell_type": "code",
      "execution_count": 72,
      "metadata": {
        "id": "PJsjoj9p1HZr"
      },
      "outputs": [],
      "source": [
        "def find_nth(str_to_search, for_str, nth, base=0):\n",
        "\n",
        "    first = str_to_search.find(for_str)\n",
        "    #print(nth, str_to_search)\n",
        "\n",
        "    if first == -1 and nth == 1:\n",
        "        return -1\n",
        "    elif nth == 1:\n",
        "        return first + base\n",
        "    else:\n",
        "        return find_nth(str_to_search[first+1:], for_str, nth-1, base+first+1)\n"
      ]
    },
    {
      "cell_type": "code",
      "execution_count": 73,
      "metadata": {
        "id": "8OIM6sbc1HZs",
        "outputId": "b3e569e6-780f-479d-92b4-6c95c848f2ca",
        "colab": {
          "base_uri": "https://localhost:8080/"
        }
      },
      "outputs": [
        {
          "output_type": "stream",
          "name": "stdout",
          "text": [
            "0\n",
            "8\n",
            "16\n",
            "24\n",
            "-1\n",
            "-1\n",
            "-1\n",
            "-1\n",
            "-1\n"
          ]
        }
      ],
      "source": [
        "for n in range(1,10):\n",
        "    pos = find_nth(\"love is love is love is love\", \"love\", n)\n",
        "    print(pos)"
      ]
    },
    {
      "cell_type": "code",
      "execution_count": null,
      "metadata": {
        "id": "fvMoZKgQ1HZs"
      },
      "outputs": [],
      "source": []
    }
  ],
  "metadata": {
    "kernelspec": {
      "display_name": "Python 3",
      "language": "python",
      "name": "python3"
    },
    "language_info": {
      "codemirror_mode": {
        "name": "ipython",
        "version": 3
      },
      "file_extension": ".py",
      "mimetype": "text/x-python",
      "name": "python",
      "nbconvert_exporter": "python",
      "pygments_lexer": "ipython3",
      "version": "3.6.7"
    },
    "colab": {
      "provenance": []
    }
  },
  "nbformat": 4,
  "nbformat_minor": 0
}