{
  "cells": [
    {
      "cell_type": "markdown",
      "metadata": {
        "id": "view-in-github",
        "colab_type": "text"
      },
      "source": [
        "<a href=\"https://colab.research.google.com/github/Jyoshnade/HDS5210_InClass/blob/master/Copy_of_week07_assignment.ipynb\" target=\"_parent\"><img src=\"https://colab.research.google.com/assets/colab-badge.svg\" alt=\"Open In Colab\"/></a>"
      ]
    },
    {
      "cell_type": "markdown",
      "metadata": {
        "id": "iCAnG6MTSTKd"
      },
      "source": [
        "# Week 7 Assignment\n",
        "\n",
        "We've been working with different types of data structures in Python (dictionary, list, etc), how those are represented in JSON documents, and how to write code to access specific data elements. In this week's assignment, you will need to create your own JSON document to store information about yourself and the grades you've received from week 1 to week 4 and the week 6 quiz.  That is, everything you should have received a grade for.  Then you'll need to show me you know how to navigate the JSON in that file.\n",
        "\n",
        "Different from what we've done in the past, you do not have to write any functions or include any docstrings.  Just create some JSON and write some code.\n",
        "\n",
        "---"
      ]
    },
    {
      "cell_type": "markdown",
      "metadata": {
        "id": "jMyO_6DLSTKg"
      },
      "source": [
        "## 7.1 Create a JSON file\n",
        "\n",
        "Create a JSON file that contains your name, email, year you were born, all of the grades you've received back so far, and a comment about what you thought was most challenging on each of those assignments.  This can be any structure you choose, but make sure it uses a dictionary and a list, and has at least two levels of hierarchy.  That is, it can't just be one big long list."
      ]
    },
    {
      "cell_type": "markdown",
      "metadata": {
        "id": "OFqfIhqaSTKh"
      },
      "source": [
        "First, explain how your data structure is going to look..."
      ]
    },
    {
      "cell_type": "markdown",
      "metadata": {
        "id": "n7aUnxzNSTKh"
      },
      "source": [
        "The JSON file's data structure will consist of a root dictionary with two main components: personal information and grades. The personal_info key will point to a dictionary that includes the name, email, and birth year as values. The grades key will contain a list of dictionaries, where each dictionary represents a week’s grade and feedback. Each entry will include keys for week, grade, and comment, clearly documenting the grades received and challenges faced. This hierarchical structure ensures easy access to personal and academic information, keeping it organized and manageable."
      ]
    },
    {
      "cell_type": "markdown",
      "metadata": {
        "id": "YX0qi4h3STKh"
      },
      "source": [
        "Then put the actual JSON you've created inside the multiline string below..."
      ]
    },
    {
      "cell_type": "code",
      "execution_count": null,
      "metadata": {
        "id": "QxiDabqQSTKi"
      },
      "outputs": [],
      "source": [
        "hds5210 =  \"\"\"\n",
        "{\n",
        "  \"name\": \"Jyoshna Devi\",\n",
        "  \"email\": \"jyoshnadevi.koraboina@slu.edu\",\n",
        "  \"year_born\": 1999,\n",
        "  ---- grades I got in each week assignment ----\n",
        "  \"assignments\": [\n",
        "    {\n",
        "      \"week-1\": \"Setup github & add collabrator\",\n",
        "      \"grade\": \"10\",\n",
        "      \"comment\": \"Initially, I forgot to add a collaborator to my repository. After some time, I realized this and added Adam as a collaborator.\"\n",
        "    },\n",
        "    {\n",
        "      \"week-2\": \"Programming Project 1\",\n",
        "      \"grade\": \"08\",\n",
        "      \"comment\": \"As a novice in coding, I made poor choices regarding variable and function names, didn't document my work adequately, and overlooked performing assertions.,\n",
        "       So I got low grage.\"\n",
        "    },\n",
        "    {\n",
        "      \"week-3\": \"Programming Project 2\",\n",
        "      \"grade\": \"07\",\n",
        "      \"comment\": \"I faced some difficulties while working with the LACE score, but I was able to overcome them.\n",
        "\n",
        "\n",
        "\n",
        "\"\n",
        "    },\n",
        "    {\n",
        "      \"week-4\": \"Programming Project 3\",\n",
        "      \"grade\": \"13\",\n",
        "      \"comment\": \"I was initially confused by nested lists, but later I gained clarity after studying McKinney 3.1.\n",
        "\n",
        "\n",
        "\n",
        "\"\n",
        "    },\n",
        "    {\n",
        "      \"week-5\": \"Programming Project 4\",\n",
        "      \"grade\": \"not assigned\",\n",
        "      \"comment\": \"Docstrings were relatively easy to understand and will be beneficial for documenting the code.\"\n",
        "    }\n",
        "  ]\n",
        "}\n",
        "\"\"\""
      ]
    },
    {
      "cell_type": "markdown",
      "metadata": {
        "id": "PZBK2P_6STKj"
      },
      "source": [
        "## 7.2 Do something with your JSON\n",
        "\n",
        "Now use Python code to do something with the Json above.  Turn it into English text, but make sure that you use at least one loop to access some dict or list content of your JSON.  Below, I've provided some basic code to read in the string above as JSON and return a Python object.  Your job is to work with that data structure and print out the important information like your name, email, and how you did on each assignment."
      ]
    },
    {
      "cell_type": "code",
      "execution_count": null,
      "metadata": {
        "id": "AgfihKtgSTKj",
        "outputId": "2dba48f8-904b-478c-84bc-4ae8256cade8",
        "colab": {
          "base_uri": "https://localhost:8080/"
        }
      },
      "outputs": [
        {
          "output_type": "stream",
          "name": "stdout",
          "text": [
            "Name: Jyoshna Devi\n",
            "Email: jyoshnadevi.koraboina@slu.edu\n",
            "Week 1: Grade = 10, Comment: First week was easy as it is only adding the collaborator.\n",
            "Week 2: Grade = 7, Comment: I made poor choice in defining functions, variables.\n",
            "Week 3: Grade = 8, Comment: At first, I didn't understand the process. Later, I worked on it and completed the assignment.\n",
            "Week 4: Grade = 13, Comment: I was a little bit confused with nested lists; later I watched some videos and started working on it.\n"
          ]
        }
      ],
      "source": [
        "import json\n",
        "\n",
        "# Sample JSON data (as if it has been loaded from an external source)\n",
        "data = {\n",
        "    \"personal_info\": {\n",
        "        \"name\": \"Jyoshna Devi\",\n",
        "        \"email\": \"jyoshnadevi.koraboina@slu.edu\",\n",
        "        \"birth_year\": 1999\n",
        "    },\n",
        "    \"grades\": [\n",
        "        {\n",
        "            \"week\": 1,\n",
        "            \"grade\": 10,\n",
        "            \"comment\": \"First week was easy as it is only adding the collaborator.\"\n",
        "        },\n",
        "        {\n",
        "            \"week\": 2,\n",
        "            \"grade\": 7,\n",
        "            \"comment\": \"I made poor choice in defining functions, variables.\"\n",
        "        },\n",
        "        {\n",
        "            \"week\": 3,\n",
        "            \"grade\": 8,\n",
        "            \"comment\": \"At first, I didn't understand the process. Later, I worked on it and completed the assignment.\"\n",
        "        },\n",
        "        {\n",
        "            \"week\": 4,\n",
        "            \"grade\": 13,\n",
        "            \"comment\": \"I was a little bit confused with nested lists; later I watched some videos and started working on it.\"\n",
        "        }\n",
        "    ]\n",
        "}\n",
        "\n",
        "# Extract personal information, print personal information, grades and comments of each week\n",
        "name = data[\"personal_info\"][\"name\"]\n",
        "email = data[\"personal_info\"][\"email\"]\n",
        "\n",
        "print(f\"Name: {name}\")\n",
        "print(f\"Email: {email}\")\n",
        "\n",
        "for grade_info in data[\"grades\"]:\n",
        "    week = grade_info[\"week\"]\n",
        "    grade = grade_info[\"grade\"]\n",
        "    comment = grade_info[\"comment\"]\n",
        "    print(f\"Week {week}: Grade = {grade}, Comment: {comment}\")"
      ]
    },
    {
      "cell_type": "markdown",
      "metadata": {
        "id": "_58lipeoSTKk"
      },
      "source": [
        "## 7.3 Reflect\n",
        "\n",
        "Write a paragraph on any reflections you have. Was this hard? Easy?  What parts were most challenging or easiest? What did you like or dislike about the assignment?  Share whatever important thoughts you have abou this assignment."
      ]
    },
    {
      "cell_type": "markdown",
      "metadata": {
        "id": "j73lM2z5STKk"
      },
      "source": [
        "This assignment was a good exercise in working with JSON data and using Python to manipulate that data into a more human-readable format. Overall, I found the task quite manageable, as I'm familiar with basic Python constructs like loops and dictionaries. The most straightforward part was loading the JSON data into a Python dictionary and accessing the values using keys.\n",
        "\n",
        "The slightly more challenging aspect was constructing the English paragraph while looping through the assignments and formatting the text in a readable way. It required some careful string concatenation to ensure everything looked clean, but it was a good reminder of how to work with dynamic data in Python.\n",
        "\n",
        "What I liked about the assignment was how it reinforced the importance of structured data and how useful JSON can be when exchanging or working with information in Python. I enjoyed the flexibility to define my own data structure and then manipulate it through code. If anything, the most tedious part was typing out the detailed assignment information, but that’s a minor issue.\n",
        "\n",
        "In conclusion, this exercise was a great combination of JSON handling and Python scripting, and I found it to be a practical and relatively easy assignment."
      ]
    },
    {
      "cell_type": "markdown",
      "metadata": {
        "id": "hB2vHS4BSTKl"
      },
      "source": [
        "---\n",
        "\n",
        "# Example\n",
        "\n",
        "Below is an example of something similar, but this uses information my and my friend's kids instead of grades."
      ]
    },
    {
      "cell_type": "code",
      "execution_count": null,
      "metadata": {
        "id": "thU5pE6mSTKl",
        "outputId": "5aa56582-d5c4-4036-8d85-8ad76147c40e",
        "colab": {
          "base_uri": "https://localhost:8080/"
        }
      },
      "outputs": [
        {
          "output_type": "stream",
          "name": "stdout",
          "text": [
            "Hi, my name is Paul. I've got 3 kids. Their names are Ellie, Ada, Teddy.\n",
            "My friend, Anny has 1 kids. That's fewer than me. Their names are 1\n"
          ]
        }
      ],
      "source": [
        "hds5210 = \"\"\"\n",
        "{\n",
        "    \"me\": {\n",
        "        \"name\": \"Paul\",\n",
        "        \"kids\": [\"Ellie\", \"Ada\", \"Teddy\"]\n",
        "    },\n",
        "    \"friend\": {\n",
        "        \"name\": \"Anny\",\n",
        "        \"kids\": [\"Abby\"]\n",
        "    }\n",
        "}\n",
        "\"\"\"\n",
        "\n",
        "import json\n",
        "\n",
        "info = json.loads(hds5210)\n",
        "\n",
        "me = info[\"me\"][\"name\"]\n",
        "my_kids_count = len(info[\"me\"][\"kids\"])\n",
        "kids_list = \", \".join(info[\"me\"][\"kids\"])\n",
        "friend = info[\"friend\"][\"name\"]\n",
        "friends_kid_count = len(info[\"friend\"][\"kids\"])\n",
        "friend_kids = \", \".join(info[\"friend\"][\"kids\"])\n",
        "compare = \"more\" if friends_kid_count > my_kids_count else \"fewer\"\n",
        "\n",
        "print(f\"Hi, my name is {me}. I've got {my_kids_count} kids. Their names are {kids_list}.\")\n",
        "print(f\"My friend, {friend} has {friends_kid_count} kids. That's {compare} than me. Their names are {friends_kid_count}\")"
      ]
    }
  ],
  "metadata": {
    "kernelspec": {
      "display_name": "Python 3",
      "language": "python",
      "name": "python3"
    },
    "language_info": {
      "codemirror_mode": {
        "name": "ipython",
        "version": 3
      },
      "file_extension": ".py",
      "mimetype": "text/x-python",
      "name": "python",
      "nbconvert_exporter": "python",
      "pygments_lexer": "ipython3",
      "version": "3.9.16"
    },
    "colab": {
      "provenance": [],
      "include_colab_link": true
    }
  },
  "nbformat": 4,
  "nbformat_minor": 0
}